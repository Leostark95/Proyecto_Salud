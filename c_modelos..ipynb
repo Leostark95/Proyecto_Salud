{
 "cells": [
  {
   "cell_type": "markdown",
   "metadata": {},
   "source": [
    "## Librerías "
   ]
  },
  {
   "cell_type": "code",
   "execution_count": 2,
   "metadata": {},
   "outputs": [
    {
     "name": "stderr",
     "output_type": "stream",
     "text": [
      "2024-11-05 18:23:34.621178: I tensorflow/core/platform/cpu_feature_guard.cc:210] This TensorFlow binary is optimized to use available CPU instructions in performance-critical operations.\n",
      "To enable the following instructions: AVX2 FMA, in other operations, rebuild TensorFlow with the appropriate compiler flags.\n"
     ]
    }
   ],
   "source": [
    "import numpy as np\n",
    "import joblib ### para cargar array\n",
    "\n",
    "########Paquetes para NN #########\n",
    "import tensorflow as tf\n",
    "from sklearn import metrics ### para analizar modelo\n",
    "from sklearn.ensemble import RandomForestClassifier  ### para analizar modelo\n",
    "import pandas as pd\n",
    "from sklearn.utils import class_weight\n",
    "from sklearn import tree\n",
    "import a_funciones as fn\n",
    "\n",
    "import cv2 ### para leer imagenes jpeg\n",
    "### pip install opencv-python\n",
    "\n",
    "from matplotlib import pyplot as plt #"
   ]
  },
  {
   "cell_type": "code",
   "execution_count": 3,
   "metadata": {},
   "outputs": [
    {
     "name": "stderr",
     "output_type": "stream",
     "text": [
      "100%|██████████| 1569/1569 [00:12<00:00, 130.22it/s]\n",
      "100%|██████████| 803/803 [00:06<00:00, 131.86it/s]\n",
      "100%|██████████| 208/208 [00:01<00:00, 137.02it/s]\n",
      "100%|██████████| 128/128 [00:00<00:00, 138.40it/s]\n",
      "100%|██████████| 448/448 [00:02<00:00, 149.93it/s]\n",
      "100%|██████████| 227/227 [00:01<00:00, 115.04it/s]\n"
     ]
    }
   ],
   "source": [
    "# cargar bases_procesadas con función\n",
    "x_train, y_train, x_test, y_test, x_val, y_val = fn.imag_array()"
   ]
  },
  {
   "cell_type": "code",
   "execution_count": 4,
   "metadata": {},
   "outputs": [
    {
     "data": {
      "text/plain": [
       "255"
      ]
     },
     "execution_count": 4,
     "metadata": {},
     "output_type": "execute_result"
    }
   ],
   "source": [
    "x_train.max()"
   ]
  },
  {
   "cell_type": "code",
   "execution_count": 5,
   "metadata": {},
   "outputs": [
    {
     "data": {
      "text/plain": [
       "255"
      ]
     },
     "execution_count": 5,
     "metadata": {},
     "output_type": "execute_result"
    }
   ],
   "source": [
    "x_test.max()"
   ]
  },
  {
   "cell_type": "code",
   "execution_count": 6,
   "metadata": {},
   "outputs": [
    {
     "data": {
      "text/plain": [
       "(336, 224, 224, 3)"
      ]
     },
     "execution_count": 6,
     "metadata": {},
     "output_type": "execute_result"
    }
   ],
   "source": [
    "# Se procede a escalar sobre su máximo valor \n",
    "x_train = x_train.astype('float32') #convertir a float para escalar\n",
    "x_test = x_test.astype('float32') #convertir a float para escalar\n",
    "x_train /= 255 #sobre el máximo valor de la representación numérica de las imágenes\n",
    "x_test /= 255\n",
    "\n",
    "# dimensionalidad\n",
    "x_train.shape\n",
    "x_test.shape\n",
    "# Se obtiene cantidad de imágenes \n",
    "# Representación de arrays de 224 x 224 (pixeles)\n",
    "#Canales = 3"
   ]
  },
  {
   "cell_type": "code",
   "execution_count": 7,
   "metadata": {},
   "outputs": [
    {
     "data": {
      "text/plain": [
       "150528"
      ]
     },
     "execution_count": 7,
     "metadata": {},
     "output_type": "execute_result"
    }
   ],
   "source": [
    "np.product(x_train[1].shape) # número de columnas"
   ]
  },
  {
   "cell_type": "code",
   "execution_count": 8,
   "metadata": {},
   "outputs": [
    {
     "data": {
      "text/plain": [
       "(array([0, 1]), array([1569,  803]))"
      ]
     },
     "execution_count": 8,
     "metadata": {},
     "output_type": "execute_result"
    }
   ],
   "source": [
    "np.unique(y_train, return_counts=True) #conteo de las clases"
   ]
  },
  {
   "cell_type": "code",
   "execution_count": 9,
   "metadata": {},
   "outputs": [
    {
     "data": {
      "text/plain": [
       "(array([0, 1]), array([208, 128]))"
      ]
     },
     "execution_count": 9,
     "metadata": {},
     "output_type": "execute_result"
    }
   ],
   "source": [
    "np.unique(y_test, return_counts=True) #conteo de las clases"
   ]
  },
  {
   "cell_type": "code",
   "execution_count": 10,
   "metadata": {},
   "outputs": [
    {
     "name": "stdout",
     "output_type": "stream",
     "text": [
      "(2372, 150528)\n"
     ]
    },
    {
     "data": {
      "text/plain": [
       "(336, 150528)"
      ]
     },
     "execution_count": 10,
     "metadata": {},
     "output_type": "execute_result"
    }
   ],
   "source": [
    "# Array de 1 dimensión\n",
    "x_train2 = x_train.reshape(2372,150528)\n",
    "x_test2 = x_test.reshape(336, 150528)\n",
    "print(x_train2.shape)\n",
    "x_test2.shape"
   ]
  },
  {
   "cell_type": "markdown",
   "metadata": {},
   "source": [
    "### Selección de métricas "
   ]
  },
  {
   "cell_type": "markdown",
   "metadata": {},
   "source": [
    "Recall y AUC (En el informe se justificó la razón)"
   ]
  },
  {
   "cell_type": "markdown",
   "metadata": {},
   "source": [
    "### 1. Modelo Random Forest"
   ]
  },
  {
   "cell_type": "code",
   "execution_count": 20,
   "metadata": {},
   "outputs": [
    {
     "name": "stdout",
     "output_type": "stream",
     "text": [
      "La métrica Recall para entrenamiento y clase 0: 1.0\n",
      "La métrica Recall para entrenamiento y clase 1: 1.0\n"
     ]
    }
   ],
   "source": [
    "modelo_1=RandomForestClassifier() #bosques aleatorios\n",
    "modelo_1.fit(x_train2, y_train.ravel()) #entrenar modelo\n",
    "\n",
    "train_pred=modelo_1.predict(x_train2)\n",
    "Recall=metrics.recall_score(y_train, train_pred, average=None)\n",
    "print(f\"La métrica Recall para entrenamiento y clase 0: {Recall[0]}\") #Recall Train clase 0 (no cáncer)\n",
    "print(f\"La métrica Recall para entrenamiento y clase 1: {Recall[1]}\") #Recall Train clase 1 (cáncer)"
   ]
  },
  {
   "cell_type": "code",
   "execution_count": 21,
   "metadata": {},
   "outputs": [
    {
     "name": "stdout",
     "output_type": "stream",
     "text": [
      "La métrica AUC para entrenamiento dio: 1.0\n"
     ]
    }
   ],
   "source": [
    "print(f\"La métrica AUC para entrenamiento dio: {metrics.roc_auc_score(y_train, train_pred)}\") #AUC de train"
   ]
  },
  {
   "cell_type": "code",
   "execution_count": 22,
   "metadata": {},
   "outputs": [
    {
     "name": "stdout",
     "output_type": "stream",
     "text": [
      "La métrica Recall para evaluación y clase 0: 0.9663461538461539\n",
      "La métrica Recall para evaluación y clase 1: 0.09375\n"
     ]
    }
   ],
   "source": [
    "test_pred=modelo_1.predict(x_test2)\n",
    "Recall=metrics.recall_score(y_test, test_pred, average=None)\n",
    "print(f\"La métrica Recall para evaluación y clase 0: {Recall[0]}\") #Recall Test clase 0 ( no cáncer)\n",
    "print(f\"La métrica Recall para evaluación y clase 1: {Recall[1]}\") #Recall Test clase 1 (cáncer)"
   ]
  },
  {
   "cell_type": "code",
   "execution_count": 23,
   "metadata": {},
   "outputs": [
    {
     "name": "stdout",
     "output_type": "stream",
     "text": [
      "La métrica AUC para evaluación dio: 0.530048076923077\n"
     ]
    }
   ],
   "source": [
    "print(f\"La métrica AUC para evaluación dio: {metrics.roc_auc_score(y_test, test_pred)}\") #AUC de test"
   ]
  },
  {
   "cell_type": "markdown",
   "metadata": {},
   "source": [
    "### 2. Modelo de Redes Neuronales Estándar"
   ]
  },
  {
   "cell_type": "code",
   "execution_count": null,
   "metadata": {},
   "outputs": [
    {
     "name": "stderr",
     "output_type": "stream",
     "text": [
      "c:\\Users\\delva\\anaconda3\\Lib\\site-packages\\keras\\src\\layers\\reshaping\\flatten.py:37: UserWarning: Do not pass an `input_shape`/`input_dim` argument to a layer. When using Sequential models, prefer using an `Input(shape)` object as the first layer in the model instead.\n",
      "  super().__init__(**kwargs)\n"
     ]
    }
   ],
   "source": [
    "y_train = y_train.ravel() #convierte y_train en un arreglo unidimensional\n",
    "\n",
    "\n",
    "# Definir el modelo de red neuronal con regularización Dropout\n",
    "fc_model = tf.keras.models.Sequential([\n",
    "    tf.keras.layers.Flatten(input_shape=x_train.shape[1:]),\n",
    "    tf.keras.layers.Dense(128, activation='relu'),\n",
    "    tf.keras.layers.Dropout(0.3),  # Dropout para reducir el sobreajuste; 'apaga' el 30% de neuronas\n",
    "    tf.keras.layers.Dense(64, activation='relu'),\n",
    "    tf.keras.layers.Dropout(0.3),\n",
    "    tf.keras.layers.Dense(1, activation='sigmoid')\n",
    "])"
   ]
  },
  {
   "cell_type": "code",
   "execution_count": 11,
   "metadata": {},
   "outputs": [],
   "source": [
    "#Configurar el optimizador\n",
    "optimizer = tf.keras.optimizers.Adam(learning_rate=0.0001) #busca minimizar la función de pérdida del modelo\n"
   ]
  },
  {
   "cell_type": "code",
   "execution_count": 12,
   "metadata": {},
   "outputs": [],
   "source": [
    "# Calcular los pesos de cada clase para mejorar el aprendizaje de las clases desbalanceadas\n",
    "class_weights = class_weight.compute_class_weight('balanced', classes=np.unique(y_train), y=y_train)\n",
    "class_weights_dict = {i: class_weights[i] for i in range(len(class_weights))}\n",
    "\n",
    "#Compilar el modelo\n",
    "fc_model.compile(optimizer=optimizer, loss='binary_crossentropy', metrics=['Recall', 'AUC'])\n"
   ]
  },
  {
   "cell_type": "code",
   "execution_count": 13,
   "metadata": {},
   "outputs": [
    {
     "name": "stdout",
     "output_type": "stream",
     "text": [
      "Epoch 1/20\n",
      "\u001b[1m75/75\u001b[0m \u001b[32m━━━━━━━━━━━━━━━━━━━━\u001b[0m\u001b[37m\u001b[0m \u001b[1m11s\u001b[0m 76ms/step - AUC: 0.5110 - Recall: 0.4653 - loss: 0.8581 - val_AUC: 0.5198 - val_Recall: 0.0859 - val_loss: 0.6776\n",
      "Epoch 2/20\n",
      "\u001b[1m75/75\u001b[0m \u001b[32m━━━━━━━━━━━━━━━━━━━━\u001b[0m\u001b[37m\u001b[0m \u001b[1m9s\u001b[0m 56ms/step - AUC: 0.4899 - Recall: 0.4487 - loss: 0.7191 - val_AUC: 0.5231 - val_Recall: 0.4688 - val_loss: 0.6916\n",
      "Epoch 3/20\n",
      "\u001b[1m75/75\u001b[0m \u001b[32m━━━━━━━━━━━━━━━━━━━━\u001b[0m\u001b[37m\u001b[0m \u001b[1m4s\u001b[0m 55ms/step - AUC: 0.4942 - Recall: 0.6712 - loss: 0.6986 - val_AUC: 0.5087 - val_Recall: 1.0000 - val_loss: 0.6949\n",
      "Epoch 4/20\n",
      "\u001b[1m75/75\u001b[0m \u001b[32m━━━━━━━━━━━━━━━━━━━━\u001b[0m\u001b[37m\u001b[0m \u001b[1m4s\u001b[0m 54ms/step - AUC: 0.4869 - Recall: 0.7689 - loss: 0.6979 - val_AUC: 0.5101 - val_Recall: 0.9531 - val_loss: 0.6963\n",
      "Epoch 5/20\n",
      "\u001b[1m75/75\u001b[0m \u001b[32m━━━━━━━━━━━━━━━━━━━━\u001b[0m\u001b[37m\u001b[0m \u001b[1m5s\u001b[0m 50ms/step - AUC: 0.5035 - Recall: 0.7750 - loss: 0.6902 - val_AUC: 0.4965 - val_Recall: 0.9922 - val_loss: 0.6940\n",
      "Epoch 6/20\n",
      "\u001b[1m75/75\u001b[0m \u001b[32m━━━━━━━━━━━━━━━━━━━━\u001b[0m\u001b[37m\u001b[0m \u001b[1m6s\u001b[0m 54ms/step - AUC: 0.5123 - Recall: 0.9445 - loss: 0.6956 - val_AUC: 0.4973 - val_Recall: 1.0000 - val_loss: 0.6942\n",
      "Epoch 7/20\n",
      "\u001b[1m75/75\u001b[0m \u001b[32m━━━━━━━━━━━━━━━━━━━━\u001b[0m\u001b[37m\u001b[0m \u001b[1m4s\u001b[0m 53ms/step - AUC: 0.5042 - Recall: 0.9743 - loss: 0.6917 - val_AUC: 0.5123 - val_Recall: 0.6641 - val_loss: 0.6911\n",
      "Epoch 8/20\n",
      "\u001b[1m75/75\u001b[0m \u001b[32m━━━━━━━━━━━━━━━━━━━━\u001b[0m\u001b[37m\u001b[0m \u001b[1m4s\u001b[0m 51ms/step - AUC: 0.5071 - Recall: 0.7617 - loss: 0.6952 - val_AUC: 0.5113 - val_Recall: 0.9609 - val_loss: 0.6938\n",
      "Epoch 9/20\n",
      "\u001b[1m75/75\u001b[0m \u001b[32m━━━━━━━━━━━━━━━━━━━━\u001b[0m\u001b[37m\u001b[0m \u001b[1m4s\u001b[0m 52ms/step - AUC: 0.5065 - Recall: 0.9840 - loss: 0.6980 - val_AUC: 0.5088 - val_Recall: 0.9609 - val_loss: 0.6943\n",
      "Epoch 10/20\n",
      "\u001b[1m75/75\u001b[0m \u001b[32m━━━━━━━━━━━━━━━━━━━━\u001b[0m\u001b[37m\u001b[0m \u001b[1m6s\u001b[0m 55ms/step - AUC: 0.5170 - Recall: 0.9235 - loss: 0.6898 - val_AUC: 0.5030 - val_Recall: 0.7031 - val_loss: 0.6911\n",
      "Epoch 11/20\n",
      "\u001b[1m75/75\u001b[0m \u001b[32m━━━━━━━━━━━━━━━━━━━━\u001b[0m\u001b[37m\u001b[0m \u001b[1m5s\u001b[0m 66ms/step - AUC: 0.4998 - Recall: 0.7752 - loss: 0.6915 - val_AUC: 0.5164 - val_Recall: 0.8203 - val_loss: 0.6922\n",
      "Epoch 12/20\n",
      "\u001b[1m75/75\u001b[0m \u001b[32m━━━━━━━━━━━━━━━━━━━━\u001b[0m\u001b[37m\u001b[0m \u001b[1m6s\u001b[0m 76ms/step - AUC: 0.5214 - Recall: 0.8761 - loss: 0.7001 - val_AUC: 0.5049 - val_Recall: 0.6016 - val_loss: 0.6865\n",
      "Epoch 13/20\n",
      "\u001b[1m75/75\u001b[0m \u001b[32m━━━━━━━━━━━━━━━━━━━━\u001b[0m\u001b[37m\u001b[0m \u001b[1m9s\u001b[0m 59ms/step - AUC: 0.4888 - Recall: 0.8587 - loss: 0.6952 - val_AUC: 0.4965 - val_Recall: 0.9062 - val_loss: 0.6929\n",
      "Epoch 14/20\n",
      "\u001b[1m75/75\u001b[0m \u001b[32m━━━━━━━━━━━━━━━━━━━━\u001b[0m\u001b[37m\u001b[0m \u001b[1m4s\u001b[0m 52ms/step - AUC: 0.5102 - Recall: 0.8497 - loss: 0.6973 - val_AUC: 0.4993 - val_Recall: 0.9141 - val_loss: 0.6931\n",
      "Epoch 15/20\n",
      "\u001b[1m75/75\u001b[0m \u001b[32m━━━━━━━━━━━━━━━━━━━━\u001b[0m\u001b[37m\u001b[0m \u001b[1m4s\u001b[0m 57ms/step - AUC: 0.5159 - Recall: 0.8874 - loss: 0.6941 - val_AUC: 0.4998 - val_Recall: 0.8047 - val_loss: 0.6920\n",
      "Epoch 16/20\n",
      "\u001b[1m75/75\u001b[0m \u001b[32m━━━━━━━━━━━━━━━━━━━━\u001b[0m\u001b[37m\u001b[0m \u001b[1m5s\u001b[0m 52ms/step - AUC: 0.5354 - Recall: 0.8569 - loss: 0.6878 - val_AUC: 0.4931 - val_Recall: 0.6016 - val_loss: 0.6868\n",
      "Epoch 17/20\n",
      "\u001b[1m75/75\u001b[0m \u001b[32m━━━━━━━━━━━━━━━━━━━━\u001b[0m\u001b[37m\u001b[0m \u001b[1m4s\u001b[0m 47ms/step - AUC: 0.5014 - Recall: 0.7944 - loss: 0.6867 - val_AUC: 0.4747 - val_Recall: 0.8516 - val_loss: 0.6930\n",
      "Epoch 18/20\n",
      "\u001b[1m75/75\u001b[0m \u001b[32m━━━━━━━━━━━━━━━━━━━━\u001b[0m\u001b[37m\u001b[0m \u001b[1m4s\u001b[0m 51ms/step - AUC: 0.5197 - Recall: 0.9119 - loss: 0.6886 - val_AUC: 0.4988 - val_Recall: 0.7344 - val_loss: 0.6921\n",
      "Epoch 19/20\n",
      "\u001b[1m75/75\u001b[0m \u001b[32m━━━━━━━━━━━━━━━━━━━━\u001b[0m\u001b[37m\u001b[0m \u001b[1m7s\u001b[0m 69ms/step - AUC: 0.5203 - Recall: 0.8813 - loss: 0.6909 - val_AUC: 0.5051 - val_Recall: 0.8281 - val_loss: 0.6936\n",
      "Epoch 20/20\n",
      "\u001b[1m75/75\u001b[0m \u001b[32m━━━━━━━━━━━━━━━━━━━━\u001b[0m\u001b[37m\u001b[0m \u001b[1m10s\u001b[0m 63ms/step - AUC: 0.5283 - Recall: 0.9257 - loss: 0.6841 - val_AUC: 0.4976 - val_Recall: 0.8750 - val_loss: 0.6934\n",
      "11/11 - 0s - 14ms/step - AUC: 0.4976 - Recall: 0.8750 - loss: 0.6934\n",
      "Test recall: 0.875\n",
      "Test AUC: 0.49761494994163513\n",
      "Test loss: 0.6933674812316895\n"
     ]
    }
   ],
   "source": [
    "#Entrenamiento del modelo\n",
    "fc_model.fit(\n",
    "    x_train, y_train,\n",
    "    batch_size=32,  #tamaño de lote reducido\n",
    "    epochs=20,  #mas iteraciones para una mejor convergencia\n",
    "    validation_data=(x_test, y_test),\n",
    "    class_weight=class_weights_dict\n",
    ")\n",
    "\n",
    "# Evaluar el modelo\n",
    "test_loss, test_recall, test_auc = fc_model.evaluate(x_test, y_test, verbose=2)\n",
    "print(\"Test recall:\", test_recall)\n",
    "print(\"Test AUC:\", test_auc)\n",
    "print(\"Test loss:\", test_loss)\n"
   ]
  }
 ],
 "metadata": {
  "kernelspec": {
   "display_name": "Python 3",
   "language": "python",
   "name": "python3"
  },
  "language_info": {
   "codemirror_mode": {
    "name": "ipython",
    "version": 3
   },
   "file_extension": ".py",
   "mimetype": "text/x-python",
   "name": "python",
   "nbconvert_exporter": "python",
   "pygments_lexer": "ipython3",
   "version": "3.11.5"
  }
 },
 "nbformat": 4,
 "nbformat_minor": 2
}
